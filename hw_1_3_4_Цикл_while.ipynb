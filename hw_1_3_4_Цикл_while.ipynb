{
 "cells": [
  {
   "cell_type": "markdown",
   "metadata": {
    "id": "15XCoYr0awZ6"
   },
   "source": [
    "#Домашнє завдання до теми \"Цикл while\""
   ]
  },
  {
   "cell_type": "markdown",
   "metadata": {
    "id": "xgCDxF5YhQSa"
   },
   "source": [
    "1. **Лічильник до заданого числа.**\n",
    "   Завдання:\n",
    "     - Створіть цикл `while`, щоб він лічив від 1 до заданого числа в змінній `limit` (включно).\n",
    "     - Виведіть кожне число, яке проходить лічильник, на екран.\n",
    "     - В кінці виведіть повідомлення \"Кінець розрахунку!\".\n"
   ]
  },
  {
   "cell_type": "code",
   "execution_count": 2,
   "metadata": {
    "id": "wwSqYFCmiJTt"
   },
   "outputs": [],
   "source": [
    "limit = 9  # Задане число"
   ]
  },
  {
   "cell_type": "code",
   "execution_count": 9,
   "metadata": {
    "id": "4IcibOYqj3pn"
   },
   "outputs": [
    {
     "name": "stdout",
     "output_type": "stream",
     "text": [
      "1 2 3 4 5 6 7 8 9 \n",
      "Кінець розрахунку!\n"
     ]
    }
   ],
   "source": [
    "i = 1\n",
    "while i <= limit:\n",
    "    print(i, end = \" \")\n",
    "    i += 1\n",
    "print(\"\\n\", 'Кінець розрахунку!', sep ='')"
   ]
  },
  {
   "cell_type": "markdown",
   "metadata": {
    "id": "DlqunQnphZ9s"
   },
   "source": [
    "2. **Пошук першого парного числа.** Завдання:\n",
    "     - Створіть цикл `while`, щоб знайти перше парне число після заданого числа `start`.\n",
    "     - Знайдіть та виведіть перше парне число.\n"
   ]
  },
  {
   "cell_type": "code",
   "execution_count": 22,
   "metadata": {
    "id": "3CC3-gNJiW6X"
   },
   "outputs": [],
   "source": [
    "start = 7  # Задане число"
   ]
  },
  {
   "cell_type": "code",
   "execution_count": 28,
   "metadata": {
    "id": "5M8Ly9_Lj4-t"
   },
   "outputs": [
    {
     "name": "stdout",
     "output_type": "stream",
     "text": [
      "8\n"
     ]
    }
   ],
   "source": [
    "counter = start \n",
    "flag = False\n",
    "while flag == False:\n",
    "    if counter % 2 == 0:\n",
    "        print(counter)\n",
    "        flag = True \n",
    "    counter += 1"
   ]
  },
  {
   "cell_type": "markdown",
   "metadata": {
    "id": "OlhKezZYiQJ2"
   },
   "source": [
    "\n",
    "3. **Обчислення факторіалу.**   \n",
    "  Факторіал числа - це добуток всіх натуральних чисел від 1 до цього числа включно. Наприклад, факторіал числа 5 (позначається як 5!) дорівнює `1 * 2 * 3 * 4 * 5 = 120`.\n",
    "\n",
    "  Завдання:  \n",
    "      - Обчисліть факторіал заданого числа, використовуючи цикл `while`.  \n",
    "      - Задайте деяке число для обчислення факторіалу у змінній `num`.  \n",
    "      - Виведіть обчислений факторіал на екран.  \n"
   ]
  },
  {
   "cell_type": "code",
   "execution_count": 36,
   "metadata": {
    "id": "s0JKm0Wtj5s9"
   },
   "outputs": [
    {
     "name": "stdout",
     "output_type": "stream",
     "text": [
      "5040\n"
     ]
    }
   ],
   "source": [
    "num = 7\n",
    "factorial_num = 1\n",
    "while num > 0:\n",
    "    factorial_num *= num\n",
    "    num -= 1\n",
    "print(factorial_num)"
   ]
  }
 ],
 "metadata": {
  "colab": {
   "provenance": []
  },
  "kernelspec": {
   "display_name": "Python 3 (ipykernel)",
   "language": "python",
   "name": "python3"
  },
  "language_info": {
   "codemirror_mode": {
    "name": "ipython",
    "version": 3
   },
   "file_extension": ".py",
   "mimetype": "text/x-python",
   "name": "python",
   "nbconvert_exporter": "python",
   "pygments_lexer": "ipython3",
   "version": "3.9.13"
  }
 },
 "nbformat": 4,
 "nbformat_minor": 1
}
